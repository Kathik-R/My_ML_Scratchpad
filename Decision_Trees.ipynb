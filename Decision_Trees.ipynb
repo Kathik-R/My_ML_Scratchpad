{
 "cells": [
  {
   "cell_type": "code",
   "execution_count": 1,
   "id": "6c772bfc",
   "metadata": {},
   "outputs": [],
   "source": [
    "import pandas as pd\n",
    "import numpy as np\n",
    "import matplotlib.pyplot as plt\n",
    "import seaborn as sns\n",
    "%matplotlib inline"
   ]
  },
  {
   "cell_type": "code",
   "execution_count": 43,
   "id": "ab1a448c",
   "metadata": {},
   "outputs": [],
   "source": [
    "train_dataset = pd.read_csv('titanic-train.csv')\n",
    "test_dataset = pd.read_csv('titanic-test.csv')"
   ]
  },
  {
   "cell_type": "code",
   "execution_count": 44,
   "id": "cd3527d2",
   "metadata": {},
   "outputs": [
    {
     "data": {
      "text/html": [
       "<div>\n",
       "<style scoped>\n",
       "    .dataframe tbody tr th:only-of-type {\n",
       "        vertical-align: middle;\n",
       "    }\n",
       "\n",
       "    .dataframe tbody tr th {\n",
       "        vertical-align: top;\n",
       "    }\n",
       "\n",
       "    .dataframe thead th {\n",
       "        text-align: right;\n",
       "    }\n",
       "</style>\n",
       "<table border=\"1\" class=\"dataframe\">\n",
       "  <thead>\n",
       "    <tr style=\"text-align: right;\">\n",
       "      <th></th>\n",
       "      <th>PassengerId</th>\n",
       "      <th>Survived</th>\n",
       "      <th>Pclass</th>\n",
       "      <th>Sex</th>\n",
       "      <th>Age</th>\n",
       "      <th>SibSp</th>\n",
       "      <th>Parch</th>\n",
       "      <th>Ticket</th>\n",
       "      <th>Fare</th>\n",
       "      <th>Cabin</th>\n",
       "      <th>Embarked</th>\n",
       "      <th>Sex_Labels</th>\n",
       "    </tr>\n",
       "  </thead>\n",
       "  <tbody>\n",
       "    <tr>\n",
       "      <th>0</th>\n",
       "      <td>1</td>\n",
       "      <td>0</td>\n",
       "      <td>3</td>\n",
       "      <td>male</td>\n",
       "      <td>22.0</td>\n",
       "      <td>1</td>\n",
       "      <td>0</td>\n",
       "      <td>A/5 21171</td>\n",
       "      <td>7.2500</td>\n",
       "      <td>NaN</td>\n",
       "      <td>S</td>\n",
       "      <td>1</td>\n",
       "    </tr>\n",
       "    <tr>\n",
       "      <th>1</th>\n",
       "      <td>2</td>\n",
       "      <td>1</td>\n",
       "      <td>1</td>\n",
       "      <td>female</td>\n",
       "      <td>38.0</td>\n",
       "      <td>1</td>\n",
       "      <td>0</td>\n",
       "      <td>PC 17599</td>\n",
       "      <td>71.2833</td>\n",
       "      <td>C85</td>\n",
       "      <td>C</td>\n",
       "      <td>0</td>\n",
       "    </tr>\n",
       "    <tr>\n",
       "      <th>2</th>\n",
       "      <td>3</td>\n",
       "      <td>1</td>\n",
       "      <td>3</td>\n",
       "      <td>female</td>\n",
       "      <td>26.0</td>\n",
       "      <td>0</td>\n",
       "      <td>0</td>\n",
       "      <td>STON/O2. 3101282</td>\n",
       "      <td>7.9250</td>\n",
       "      <td>NaN</td>\n",
       "      <td>S</td>\n",
       "      <td>0</td>\n",
       "    </tr>\n",
       "    <tr>\n",
       "      <th>3</th>\n",
       "      <td>4</td>\n",
       "      <td>1</td>\n",
       "      <td>1</td>\n",
       "      <td>female</td>\n",
       "      <td>35.0</td>\n",
       "      <td>1</td>\n",
       "      <td>0</td>\n",
       "      <td>113803</td>\n",
       "      <td>53.1000</td>\n",
       "      <td>C123</td>\n",
       "      <td>S</td>\n",
       "      <td>0</td>\n",
       "    </tr>\n",
       "    <tr>\n",
       "      <th>4</th>\n",
       "      <td>5</td>\n",
       "      <td>0</td>\n",
       "      <td>3</td>\n",
       "      <td>male</td>\n",
       "      <td>35.0</td>\n",
       "      <td>0</td>\n",
       "      <td>0</td>\n",
       "      <td>373450</td>\n",
       "      <td>8.0500</td>\n",
       "      <td>NaN</td>\n",
       "      <td>S</td>\n",
       "      <td>1</td>\n",
       "    </tr>\n",
       "  </tbody>\n",
       "</table>\n",
       "</div>"
      ],
      "text/plain": [
       "   PassengerId  Survived  Pclass     Sex   Age  SibSp  Parch  \\\n",
       "0            1         0       3    male  22.0      1      0   \n",
       "1            2         1       1  female  38.0      1      0   \n",
       "2            3         1       3  female  26.0      0      0   \n",
       "3            4         1       1  female  35.0      1      0   \n",
       "4            5         0       3    male  35.0      0      0   \n",
       "\n",
       "             Ticket     Fare Cabin Embarked  Sex_Labels  \n",
       "0         A/5 21171   7.2500   NaN        S           1  \n",
       "1          PC 17599  71.2833   C85        C           0  \n",
       "2  STON/O2. 3101282   7.9250   NaN        S           0  \n",
       "3            113803  53.1000  C123        S           0  \n",
       "4            373450   8.0500   NaN        S           1  "
      ]
     },
     "execution_count": 44,
     "metadata": {},
     "output_type": "execute_result"
    }
   ],
   "source": [
    "from sklearn.preprocessing import LabelEncoder\n",
    "le = LabelEncoder()\n",
    "le.fit(train_dataset['Sex'])\n",
    "train_dataset['Sex_Labels'] = le.transform(train_dataset['Sex'])\n",
    "test_dataset['Sex_Labels'] = le.transform(test_dataset['Sex'])\n",
    "train_dataset.head()"
   ]
  },
  {
   "cell_type": "code",
   "execution_count": 49,
   "id": "27a8b921",
   "metadata": {},
   "outputs": [],
   "source": [
    "train_dataset['Cabin_Available']=train_dataset['Cabin'].isna().apply(int)\n",
    "test_dataset['Cabin_Available']=test_dataset['Cabin'].isna().apply(int)"
   ]
  },
  {
   "cell_type": "code",
   "execution_count": 50,
   "id": "7e20c734",
   "metadata": {},
   "outputs": [],
   "source": [
    "train_dataset.fillna('Null')\n",
    "test_dataset.fillna('Null')\n",
    "\n",
    "le = LabelEncoder()\n",
    "le.fit(train_dataset['Embarked'])\n",
    "train_dataset['Embarked_Labels'] = le.transform(train_dataset['Embarked'])\n",
    "test_dataset['Embarked_Labels'] = le.transform(test_dataset['Embarked'])"
   ]
  },
  {
   "cell_type": "code",
   "execution_count": 51,
   "id": "bfd726a0",
   "metadata": {},
   "outputs": [],
   "source": [
    "train_dataset['Age_Available']=train_dataset['Age'].isna().apply(int)\n",
    "test_dataset['Age_Available']=test_dataset['Age'].isna().apply(int)\n",
    "\n",
    "train_dataset['Age'] = train_dataset['Age'].fillna(train_dataset.groupby('Sex')['Age'].transform('mean'))\n",
    "test_dataset['Age'] = test_dataset['Age'].fillna(test_dataset.groupby('Sex')['Age'].transform('mean'))"
   ]
  },
  {
   "cell_type": "code",
   "execution_count": 52,
   "id": "c14ab908",
   "metadata": {},
   "outputs": [],
   "source": [
    "train_sex = train_dataset['Sex']\n",
    "test_sex = test_dataset['Sex']\n",
    "train_embarked = train_dataset['Embarked']\n",
    "test_embarked = test_dataset['Embarked']\n",
    "\n",
    "train_dataset.drop(['PassengerId','Sex','Cabin','Ticket','Embarked'],axis=1,inplace=True)\n",
    "test_dataset.drop(['PassengerId','Sex','Cabin','Ticket','Embarked'],axis=1,inplace=True)\n",
    "test_dataset.dropna(inplace=True)\n",
    "train_dataset.dropna(inplace=True)"
   ]
  },
  {
   "cell_type": "code",
   "execution_count": 53,
   "id": "2bb104ee",
   "metadata": {
    "scrolled": true
   },
   "outputs": [
    {
     "data": {
      "text/plain": [
       "<AxesSubplot:>"
      ]
     },
     "execution_count": 53,
     "metadata": {},
     "output_type": "execute_result"
    },
    {
     "data": {
      "image/png": "[encoded data removed]",
      "text/plain": [
       "<Figure size 432x288 with 2 Axes>"
      ]
     },
     "metadata": {
      "needs_background": "light"
     },
     "output_type": "display_data"
    }
   ],
   "source": [
    "sns.heatmap(train_dataset.isnull())"
   ]
  },
  {
   "cell_type": "code",
   "execution_count": 54,
   "id": "d607e34a",
   "metadata": {
    "scrolled": true
   },
   "outputs": [
    {
     "data": {
      "text/plain": [
       "<AxesSubplot:>"
      ]
     },
     "execution_count": 54,
     "metadata": {},
     "output_type": "execute_result"
    },
    {
     "data": {
      "image/png": "[encoded data removed]",
      "text/plain": [
       "<Figure size 432x288 with 2 Axes>"
      ]
     },
     "metadata": {
      "needs_background": "light"
     },
     "output_type": "display_data"
    }
   ],
   "source": [
    "sns.heatmap(test_dataset.isnull())"
   ]
  },
  {
   "cell_type": "code",
   "execution_count": 55,
   "id": "a28635c8",
   "metadata": {},
   "outputs": [],
   "source": [
    "from sklearn.model_selection import train_test_split\n",
    "\n",
    "X_train, X_test, y_train, y_test = train_test_split(train_dataset.drop(['Survived'], inplace=False, axis=1), train_dataset['Survived'], test_size=0.20, random_state=42)"
   ]
  },
  {
   "cell_type": "markdown",
   "id": "c30722ff",
   "metadata": {},
   "source": [
    "### Information Gain from each Split"
   ]
  },
  {
   "cell_type": "code",
   "execution_count": 70,
   "id": "bdfbb9d8",
   "metadata": {},
   "outputs": [],
   "source": [
    "# create node class to store splits within out tree\n",
    "# these will be used for prediction later\n",
    "class Node:\n",
    "    def __init__(self, feature=None, threshold=None, left=None, right=None, value=None):\n",
    "        self.feature = feature\n",
    "        self.threshold = threshold\n",
    "        self.left= left\n",
    "        self.right = right\n",
    "        self.value = value\n",
    "    \n",
    "    def is_leaf(self):\n",
    "        return self.value is not None"
   ]
  },
  {
   "cell_type": "code",
   "execution_count": 71,
   "id": "0b676570",
   "metadata": {},
   "outputs": [],
   "source": [
    "class DecisionTree:\n",
    "    # initialize class with depth and min splits\n",
    "    def __init__(self, max_depth=100, min_samples_split=2):\n",
    "        self.max_depth = max_depth\n",
    "        self.min_samples_split = min_samples_split\n",
    "        self.root = None\n",
    "    \n",
    "    # check if tree is finished when max depth is reached\n",
    "    # or we have only one class label in one split\n",
    "    # or number of samples created is less than the minimum samples from each split\n",
    "    def _is_finished(self, depth):\n",
    "        if (depth>=self.max_depth or \n",
    "            self.n_class_labels == 1 or\n",
    "            self.n_samples < self.min_samples_split):\n",
    "            return True\n",
    "        return False\n",
    "    \n",
    "    def _build_tree(self, X, y, depth=0):\n",
    "        self.n_samples, self.n_features = X.shape\n",
    "        self.n_class_labels = len(np.unique(y))\n",
    "        \n",
    "        # check for stopping criteria\n",
    "        # if true then find most frequent label in current split\n",
    "        # return Leaf Node with that label as its value\n",
    "        if self._is_finished(depth):\n",
    "            most_common_label = np.argmax(np.bincount(y))\n",
    "            return Node(value=most_common_label)\n",
    "        \n",
    "        # get best split\n",
    "        random_features = np.random.choice(self.n_features, self.n_features, replace=False)\n",
    "        best_feature, best_threshold = self._best_split(X, y, random_features)\n",
    "        \n",
    "        # grow children recursively\n",
    "        left_idx, right_idx = self._create_split(X[:, best_feature], best_threshold)\n",
    "        left_child = self._build_tree(X[left_idx, :], y[left_idx], depth+1)\n",
    "        right_child = self._build_tree(X[right_idx, :], y[right_idx], depth+1)\n",
    "        return Node(best_feature, best_threshold, left_child, right_child)\n",
    "    \n",
    "    def fit(self, X, y):\n",
    "        self.root = self._build_tree(X, y)\n",
    "    \n",
    "    def _entropy(self, y):\n",
    "        proportions = np.bincount(y)/len(y)\n",
    "        entropy = -np.sum([p*np.log2(p) for p in proportions])\n",
    "        return entropy\n",
    "    \n",
    "    def _create_split(self, X, threshold):\n",
    "        left_idx = np.argwhere(X <= threshold).flatten()\n",
    "        right_idx = np.argwhere(X > threshold).flatten()\n",
    "        return left_idx, right_idx\n",
    "    \n",
    "    # calculate information gain by subtracting the entropy of parent and children\n",
    "    # loss obtained from the entropy\n",
    "    def _information_gain(self, X, y, threshold):\n",
    "        parent_loss = self._entropy(y)\n",
    "        left_idx, right_idx = self._create_split(X, threshold)\n",
    "        n, n_left, n_right = len(X), len(left_idx), len(right_idx)\n",
    "        \n",
    "        if n_left==0 or n_right==0:\n",
    "            return 0\n",
    "        \n",
    "        child_loss = (n_left/n)*self._entropy(y[left_idx]) + (n_right/n)*self._entropy(y[right_idx])\n",
    "        return parent_loss - child_loss\n",
    "    \n",
    "    # finding best split in parent dataset\n",
    "    def _best_split(self, X, y, features):\n",
    "        # dictionary to track splits\n",
    "        split = {'score':-1, 'feature':None, 'threshold':None}\n",
    "        \n",
    "        # loop over features in parent to find best split\n",
    "        for feature in features:\n",
    "            # subset over the feature\n",
    "            X_feat = X[:, feature]\n",
    "            # find possible thresholds in that feature column\n",
    "            thresholds = np.unique(X_feat)\n",
    "            # loop over possible thresholds and check information gain\n",
    "            # if the best improvement then update split data\n",
    "            for threshold in thresholds:\n",
    "                score = self._information_gain(X_feat, y, threshold)\n",
    "                if score > split['score']:\n",
    "                    split['score']=score\n",
    "                    split['feature']=feature\n",
    "                    split['threshold']=threshold\n",
    "        \n",
    "        # return the best split\n",
    "        return split['feature'], split['threshold']\n",
    "    \n",
    "    # create functions for predictions\n",
    "    def _traverse_tree(self, x, node):\n",
    "        if node.is_leaf():\n",
    "            return node.value\n",
    "        \n",
    "        if x[node.feature] <= node.threshold:\n",
    "            return self._traverse_tree(x, node.left)\n",
    "        return self._traverse_tree(x, node.right)\n",
    "    \n",
    "    def predict(self, X):\n",
    "        predictions = [self._traverse_tree(x, self.root) for x in X]\n",
    "        return np.array(predictions)"
   ]
  },
  {
   "cell_type": "code",
   "execution_count": 81,
   "id": "0bb977fa",
   "metadata": {},
   "outputs": [],
   "source": [
    "def get_accuracy(y_true, y_pred):\n",
    "    accuracy = np.sum(y_true == y_pred) / len(y_true)\n",
    "    return accuracy"
   ]
  },
  {
   "cell_type": "code",
   "execution_count": 75,
   "id": "9b3059e5",
   "metadata": {},
   "outputs": [],
   "source": [
    "model = DecisionTree(max_depth=3)"
   ]
  },
  {
   "cell_type": "code",
   "execution_count": 76,
   "id": "6743b8c0",
   "metadata": {
    "scrolled": true
   },
   "outputs": [
    {
     "name": "stderr",
     "output_type": "stream",
     "text": [
      "C:\\Users\\Kathik\\AppData\\Local\\Temp/ipykernel_17832/1568819582.py:44: RuntimeWarning: divide by zero encountered in log2\n",
      "  entropy = -np.sum([p*np.log2(p) for p in proportions])\n",
      "C:\\Users\\Kathik\\AppData\\Local\\Temp/ipykernel_17832/1568819582.py:44: RuntimeWarning: invalid value encountered in double_scalars\n",
      "  entropy = -np.sum([p*np.log2(p) for p in proportions])\n"
     ]
    }
   ],
   "source": [
    "model.fit(np.array(X_train), np.array(y_train))"
   ]
  },
  {
   "cell_type": "code",
   "execution_count": 78,
   "id": "b56dfe64",
   "metadata": {},
   "outputs": [],
   "source": [
    "y_pred = model.predict(np.array(X_test))"
   ]
  },
  {
   "cell_type": "code",
   "execution_count": 82,
   "id": "15fd265e",
   "metadata": {},
   "outputs": [
    {
     "name": "stdout",
     "output_type": "stream",
     "text": [
      "Accuracy: 0.7932960893854749\n"
     ]
    }
   ],
   "source": [
    "accuracy = get_accuracy(np.array(y_test), y_pred)\n",
    "print(\"Accuracy:\", accuracy)"
   ]
  },
  {
   "cell_type": "code",
   "execution_count": null,
   "id": "ed91c944",
   "metadata": {},
   "outputs": [],
   "source": []
  }
 ],
 "metadata": {
  "kernelspec": {
   "display_name": "Python 3 (ipykernel)",
   "language": "python",
   "name": "python3"
  },
  "language_info": {
   "codemirror_mode": {
    "name": "ipython",
    "version": 3
   },
   "file_extension": ".py",
   "mimetype": "text/x-python",
   "name": "python",
   "nbconvert_exporter": "python",
   "pygments_lexer": "ipython3",
   "version": "3.9.7"
  }
 },
 "nbformat": 4,
 "nbformat_minor": 5
}
